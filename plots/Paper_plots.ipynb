{
 "cells": [
  {
   "cell_type": "code",
   "execution_count": 1,
   "metadata": {},
   "outputs": [],
   "source": [
    "%matplotlib inline\n",
    "import numpy as np\n",
    "import matplotlib.pyplot as plt\n",
    "import seaborn as sns\n",
    "import pandas as pd"
   ]
  },
  {
   "cell_type": "code",
   "execution_count": 46,
   "metadata": {},
   "outputs": [],
   "source": [
    "# names = [\"cJSON\", \"Hashmap\", \"Flattened\", \"Serial\"]\n",
    "\n",
    "# give nicer names\n",
    "names = [\"Tree\", \"Nested Hashmap\", \"Flattened Struct\", \"Indexed String\"]\n",
    "\n",
    "rows = []\n",
    "# twitter measurement time\n",
    "data = [\n",
    "            [60.2339, 49.3238, 53.9777, 60.7755, 60.777],\n",
    "            [60.0574, 57.3929, 49.8694, 53.507, 57.8562],\n",
    "            [64.474, 51.1145, 50.3161, 54.0222, 58.3576],\n",
    "            [57.9821, 61.146, 53.7519, 62.6825, 64.0363],\n",
    "        ]\n",
    "\n",
    "for i, d in enumerate(data):\n",
    "    for x in d:\n",
    "        rows.append({'type' : names[i], 'dataset' : 'twitter', 'access' : x })\n",
    "        \n",
    "# Yelp build time\n",
    "data = [\n",
    "            [2.41078, 2.43933, 2.4254, 2.41501, 2.40656],\n",
    "            [2.5934, 2.59184, 2.60951, 2.60139, 2.59061],\n",
    "            [1.72849, 1.72708, 1.72652, 1.7279, 1.73144],\n",
    "            [2.46973, 2.46706, 2.45018, 2.45214, 2.45356],\n",
    "        ]\n",
    "\n",
    "for i, d in enumerate(data):\n",
    "    for x in d:\n",
    "        rows.append({'type' : names[i], 'dataset' : 'yelp', 'access' : x })\n",
    "\n",
    "df = pd.DataFrame(rows)\n",
    "\n",
    "# compute mb/sec for build time\n",
    "df.loc[df['dataset'] == 'twitter', 'access_mb_per_sec'] = 7200 / df[df['dataset'] == 'twitter']['access']\n",
    "df.loc[df['dataset'] == 'yelp', 'access_mb_per_sec'] = 229 / df[df['dataset'] == 'yelp']['access']"
   ]
  },
  {
   "cell_type": "code",
   "execution_count": 47,
   "metadata": {},
   "outputs": [],
   "source": [
    "df.to_csv('results.csv', index=None)"
   ]
  },
  {
   "cell_type": "code",
   "execution_count": 49,
   "metadata": {},
   "outputs": [
    {
     "data": {
      "text/html": [
       "<div>\n",
       "<style scoped>\n",
       "    .dataframe tbody tr th:only-of-type {\n",
       "        vertical-align: middle;\n",
       "    }\n",
       "\n",
       "    .dataframe tbody tr th {\n",
       "        vertical-align: top;\n",
       "    }\n",
       "\n",
       "    .dataframe thead th {\n",
       "        text-align: right;\n",
       "    }\n",
       "</style>\n",
       "<table border=\"1\" class=\"dataframe\">\n",
       "  <thead>\n",
       "    <tr style=\"text-align: right;\">\n",
       "      <th></th>\n",
       "      <th></th>\n",
       "      <th>count</th>\n",
       "      <th>mean</th>\n",
       "      <th>std</th>\n",
       "      <th>min</th>\n",
       "      <th>25%</th>\n",
       "      <th>50%</th>\n",
       "      <th>75%</th>\n",
       "      <th>max</th>\n",
       "    </tr>\n",
       "    <tr>\n",
       "      <th>dataset</th>\n",
       "      <th>type</th>\n",
       "      <th></th>\n",
       "      <th></th>\n",
       "      <th></th>\n",
       "      <th></th>\n",
       "      <th></th>\n",
       "      <th></th>\n",
       "      <th></th>\n",
       "      <th></th>\n",
       "    </tr>\n",
       "  </thead>\n",
       "  <tbody>\n",
       "    <tr>\n",
       "      <th rowspan=\"4\" valign=\"top\">twitter</th>\n",
       "      <th>Flattened Struct</th>\n",
       "      <td>5.0</td>\n",
       "      <td>55.656880</td>\n",
       "      <td>5.849462</td>\n",
       "      <td>50.31610</td>\n",
       "      <td>51.11450</td>\n",
       "      <td>54.02220</td>\n",
       "      <td>58.35760</td>\n",
       "      <td>64.47400</td>\n",
       "    </tr>\n",
       "    <tr>\n",
       "      <th>Indexed String</th>\n",
       "      <td>5.0</td>\n",
       "      <td>59.919760</td>\n",
       "      <td>4.119445</td>\n",
       "      <td>53.75190</td>\n",
       "      <td>57.98210</td>\n",
       "      <td>61.14600</td>\n",
       "      <td>62.68250</td>\n",
       "      <td>64.03630</td>\n",
       "    </tr>\n",
       "    <tr>\n",
       "      <th>Nested Hashmap</th>\n",
       "      <td>5.0</td>\n",
       "      <td>55.736580</td>\n",
       "      <td>4.040436</td>\n",
       "      <td>49.86940</td>\n",
       "      <td>53.50700</td>\n",
       "      <td>57.39290</td>\n",
       "      <td>57.85620</td>\n",
       "      <td>60.05740</td>\n",
       "    </tr>\n",
       "    <tr>\n",
       "      <th>Tree</th>\n",
       "      <td>5.0</td>\n",
       "      <td>57.017580</td>\n",
       "      <td>5.172887</td>\n",
       "      <td>49.32380</td>\n",
       "      <td>53.97770</td>\n",
       "      <td>60.23390</td>\n",
       "      <td>60.77550</td>\n",
       "      <td>60.77700</td>\n",
       "    </tr>\n",
       "    <tr>\n",
       "      <th rowspan=\"4\" valign=\"top\">yelp</th>\n",
       "      <th>Flattened Struct</th>\n",
       "      <td>5.0</td>\n",
       "      <td>1.728286</td>\n",
       "      <td>0.001918</td>\n",
       "      <td>1.72652</td>\n",
       "      <td>1.72708</td>\n",
       "      <td>1.72790</td>\n",
       "      <td>1.72849</td>\n",
       "      <td>1.73144</td>\n",
       "    </tr>\n",
       "    <tr>\n",
       "      <th>Indexed String</th>\n",
       "      <td>5.0</td>\n",
       "      <td>2.458534</td>\n",
       "      <td>0.009130</td>\n",
       "      <td>2.45018</td>\n",
       "      <td>2.45214</td>\n",
       "      <td>2.45356</td>\n",
       "      <td>2.46706</td>\n",
       "      <td>2.46973</td>\n",
       "    </tr>\n",
       "    <tr>\n",
       "      <th>Nested Hashmap</th>\n",
       "      <td>5.0</td>\n",
       "      <td>2.597350</td>\n",
       "      <td>0.007993</td>\n",
       "      <td>2.59061</td>\n",
       "      <td>2.59184</td>\n",
       "      <td>2.59340</td>\n",
       "      <td>2.60139</td>\n",
       "      <td>2.60951</td>\n",
       "    </tr>\n",
       "    <tr>\n",
       "      <th>Tree</th>\n",
       "      <td>5.0</td>\n",
       "      <td>2.419416</td>\n",
       "      <td>0.013150</td>\n",
       "      <td>2.40656</td>\n",
       "      <td>2.41078</td>\n",
       "      <td>2.41501</td>\n",
       "      <td>2.42540</td>\n",
       "      <td>2.43933</td>\n",
       "    </tr>\n",
       "  </tbody>\n",
       "</table>\n",
       "</div>"
      ],
      "text/plain": [
       "                          count       mean       std       min       25%  \\\n",
       "dataset type                                                               \n",
       "twitter Flattened Struct    5.0  55.656880  5.849462  50.31610  51.11450   \n",
       "        Indexed String      5.0  59.919760  4.119445  53.75190  57.98210   \n",
       "        Nested Hashmap      5.0  55.736580  4.040436  49.86940  53.50700   \n",
       "        Tree                5.0  57.017580  5.172887  49.32380  53.97770   \n",
       "yelp    Flattened Struct    5.0   1.728286  0.001918   1.72652   1.72708   \n",
       "        Indexed String      5.0   2.458534  0.009130   2.45018   2.45214   \n",
       "        Nested Hashmap      5.0   2.597350  0.007993   2.59061   2.59184   \n",
       "        Tree                5.0   2.419416  0.013150   2.40656   2.41078   \n",
       "\n",
       "                               50%       75%       max  \n",
       "dataset type                                            \n",
       "twitter Flattened Struct  54.02220  58.35760  64.47400  \n",
       "        Indexed String    61.14600  62.68250  64.03630  \n",
       "        Nested Hashmap    57.39290  57.85620  60.05740  \n",
       "        Tree              60.23390  60.77550  60.77700  \n",
       "yelp    Flattened Struct   1.72790   1.72849   1.73144  \n",
       "        Indexed String     2.45356   2.46706   2.46973  \n",
       "        Nested Hashmap     2.59340   2.60139   2.60951  \n",
       "        Tree               2.41501   2.42540   2.43933  "
      ]
     },
     "execution_count": 49,
     "metadata": {},
     "output_type": "execute_result"
    }
   ],
   "source": [
    "df.groupby(['dataset', 'type'])['access'].describe()"
   ]
  },
  {
   "cell_type": "code",
   "execution_count": 50,
   "metadata": {},
   "outputs": [],
   "source": [
    "vals = df[df['dataset'] == 'twitter'].groupby('type').mean().reset_index()\n",
    "vals_std = df[df['dataset'] == 'twitter'].groupby('type').std().reset_index()"
   ]
  },
  {
   "cell_type": "code",
   "execution_count": 51,
   "metadata": {},
   "outputs": [
    {
     "data": {
      "text/plain": [
       "<matplotlib.axes._subplots.AxesSubplot at 0x11e307350>"
      ]
     },
     "execution_count": 51,
     "metadata": {},
     "output_type": "execute_result"
    },
    {
     "data": {
      "image/png": "[encoded data removed]",
      "text/plain": [
       "<Figure size 432x288 with 1 Axes>"
      ]
     },
     "metadata": {
      "needs_background": "light"
     },
     "output_type": "display_data"
    }
   ],
   "source": [
    "vals.plot.bar()\n"
   ]
  },
  {
   "cell_type": "code",
   "execution_count": 123,
   "metadata": {},
   "outputs": [
    {
     "data": {
      "image/png": "[encoded data removed]",
      "text/plain": [
       "<Figure size 720x360 with 1 Axes>"
      ]
     },
     "metadata": {},
     "output_type": "display_data"
    }
   ],
   "source": [
    "sns.set_style('whitegrid')\n",
    "pal = [sns.color_palette(\"Blues_d\", 9)[2], sns.color_palette(\"Blues_d\", 9)[7]]\n",
    "sns.set_palette(pal)\n",
    "plt.figure(figsize=(10,5))\n",
    "ax = sns.barplot(x=\"type\",\n",
    "                 y=\"access_mb_per_sec\",\n",
    "                 hue=\"dataset\",\n",
    "                 data=df,\n",
    "                 order=[\"Nested Hashmap\", \"Tree\", \"Indexed String\", \"Flattened Struct\"])\n",
    "plt.xlabel('')\n",
    "plt.ylabel('build speed in MB/s', fontsize=16)\n",
    "plt.xticks(fontsize=14)\n",
    "plt.yticks(fontsize=14)\n",
    "sns.despine()\n",
    "\n",
    "handles, labels = ax.get_legend_handles_labels()\n",
    "ax.legend(handles=handles, labels=[l.capitalize() for l in labels], fontsize=16, loc='upper right')\n",
    "plt.ylim(0, 180)\n",
    "plt.tight_layout()\n",
    "plt.savefig('access_time.pdf', dpi=120, transparent=True)"
   ]
  },
  {
   "cell_type": "code",
   "execution_count": null,
   "metadata": {},
   "outputs": [],
   "source": []
  }
 ],
 "metadata": {
  "kernelspec": {
   "display_name": "Python 3",
   "language": "python",
   "name": "python3"
  },
  "language_info": {
   "codemirror_mode": {
    "name": "ipython",
    "version": 3
   },
   "file_extension": ".py",
   "mimetype": "text/x-python",
   "name": "python",
   "nbconvert_exporter": "python",
   "pygments_lexer": "ipython3",
   "version": "3.7.4"
  }
 },
 "nbformat": 4,
 "nbformat_minor": 2
}
